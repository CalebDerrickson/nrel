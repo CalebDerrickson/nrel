{
 "cells": [
  {
   "cell_type": "code",
   "execution_count": 4,
   "id": "0832c26d-6d49-426c-b4c6-a02f7c6262b7",
   "metadata": {},
   "outputs": [],
   "source": [
    "# set up hsds server, .hscfg problem is fixed with fix in personal slack.   \n",
    "import pickle\n",
    "import pandas as pd\n",
    "import os\n",
    "\n",
    "import math\n",
    "import numpy as np\n",
    "\n",
    "import matplotlib.pyplot as plt\n",
    "import tables\n",
    "from rex import WindX\n",
    "from rex import Resource\n",
    "import h5pyd\n",
    "import rex\n",
    "import xarray as xr\n",
    "from rex import MultiFileResourceX, ResourceX, MultiTimeResourceX"
   ]
  },
  {
   "cell_type": "code",
   "execution_count": 2,
   "id": "a8a6b5bb-3ebd-4245-a86e-2216e16968c7",
   "metadata": {},
   "outputs": [],
   "source": [
    "filename = \"map_uid_lat_lon.pkl\"\n",
    "with open(filename, 'rb') as file:\n",
    "    data = pickle.load(file)"
   ]
  },
  {
   "cell_type": "code",
   "execution_count": 5,
   "id": "137e74f9-925d-4b77-ae66-3f439a6ed5eb",
   "metadata": {},
   "outputs": [
    {
     "name": "stdout",
     "output_type": "stream",
     "text": [
      "2\n",
      "3\n",
      "4\n",
      "5\n"
     ]
    }
   ],
   "source": [
    "# using European GCM\n",
    "gcm = \"ecearth3\"\n",
    "data_dir = \"/nrel/sup3rcc/conus_ecearth3_ssp585_r1i1p1f1/\"\n",
    "map_uid_df = pd.DataFrame.from_dict(data, orient='index', columns=['latitude', 'longitude']).reset_index()\n",
    "\n",
    "# Applying gid to lat, lon sites. requires ONE file to be read from\n",
    "filename = os.path.join(data_dir, f\"sup3rcc_conus_{gcm}_ssp585_r1i1p1f1_2020.h5\")\n",
    "res = ResourceX(filename, hsds=True)\n",
    "map_uid_df['gid'] = res.lat_lon_gid(list(data.values()))\n",
    "var = \"temperature_2m\"\n",
    "\n",
    "# Dropping all duplicates\n",
    "unique_map_uid_df = map_uid_df.drop_duplicates(subset='gid', keep='first').set_index('gid')\n",
    "\n",
    "decades = [2, 3, 4, 5]\n",
    "for dec in decades:\n",
    "    filename = os.path.join(data_dir, f\"sup3rcc_conus_{gcm}_ssp585_r1i1p1f1_20{dec}*.h5\")\n",
    "    res = MultiTimeResourceX(filename, hsds=True)\n",
    "    df = res.get_gid_df(var, map_uid_df.gid.unique())\n",
    "    print(dec)\n",
    "    dS = xr.Dataset(\n",
    "    data_vars={\n",
    "        'temp': (['time', 'gid'], df.values)\n",
    "        },\n",
    "        coords={\n",
    "            'time': pd.to_datetime(df.index),\n",
    "            'gid': df.columns,\n",
    "            'latitude': (['gid'], unique_map_uid_df['latitude'].values),\n",
    "            'longitude': (['gid'], unique_map_uid_df['longitude'].values)\n",
    "        }\n",
    "    )\n",
    "    \n",
    "    # converting times to datetimeindex\n",
    "    dS['time'] = pd.DatetimeIndex(dS['time'].values)\n",
    "    dS.to_netcdf(f\"sup3rcc_t2m_20{dec}0_20{dec}9.nc\")"
   ]
  },
  {
   "cell_type": "code",
   "execution_count": null,
   "id": "2cd7ea8a-c445-4263-af37-4ac17eea002e",
   "metadata": {},
   "outputs": [],
   "source": [
    "fname = \"temperatures_by_gid_time_phil.h5\"\n",
    "hdf = pd.HDFStore(fname)\n",
    "map_uid_df = hdf.get('/gids')\n",
    "temp_df = hdf.get('/temps')\n",
    "\n",
    "# Specifying the given date range\n",
    "temp_df = temp_df[temp_df.index.year >= 2025]\n",
    "\n",
    "# Dropping all duplicates\n",
    "unique_map_uid_df = map_uid_df.drop_duplicates(subset='gid', keep='first').set_index('gid')\n",
    "unique_map_uid_df = unique_map_uid_df.loc[temp_df.columns]"
   ]
  },
  {
   "cell_type": "code",
   "execution_count": null,
   "id": "70ff464d-7734-4616-95f0-dc4c673c5543",
   "metadata": {},
   "outputs": [],
   "source": [
    "#map_uid_df = map_uid_df.set_index('gid').loc[temp_df.columns]\n",
    "\n",
    "# Assuming unique_map_uid_df is already processed as before:\n",
    "# unique_map_uid_df = map_uid_df.drop_duplicates(subset='gid').set_index('gid')\n",
    "# unique_map_uid_df = unique_map_uid_df.loc[temp_df.columns]\n",
    "\n",
    "# Now create the xarray Dataset\n",
    "dS = xr.Dataset(\n",
    "    data_vars={\n",
    "        'temp': (['time', 'gid'], temp_df.values)\n",
    "    },\n",
    "    coords={\n",
    "        'time': pd.to_datetime(temp_df.index),\n",
    "        'gid': temp_df.columns,\n",
    "        'latitude': (['gid'], unique_map_uid_df['latitude'].values),\n",
    "        'longitude': (['gid'], unique_map_uid_df['longitude'].values)\n",
    "    }\n",
    ")\n",
    "\n",
    "# converting times to datetimeindex\n",
    "dS['time'] = pd.DatetimeIndex(dS['time'].values)"
   ]
  },
  {
   "cell_type": "code",
   "execution_count": null,
   "id": "b40ec173-f922-4159-912b-086b76f623c7",
   "metadata": {},
   "outputs": [],
   "source": [
    "dS.to_netcdf(\"sup3rcc_t2m_2025_2030.nc\")"
   ]
  }
 ],
 "metadata": {
  "kernelspec": {
   "display_name": "Python 3 (ipykernel)",
   "language": "python",
   "name": "python3"
  },
  "language_info": {
   "codemirror_mode": {
    "name": "ipython",
    "version": 3
   },
   "file_extension": ".py",
   "mimetype": "text/x-python",
   "name": "python",
   "nbconvert_exporter": "python",
   "pygments_lexer": "ipython3",
   "version": "3.11.11"
  }
 },
 "nbformat": 4,
 "nbformat_minor": 5
}
