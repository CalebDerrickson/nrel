{
 "cells": [
  {
   "cell_type": "code",
   "execution_count": 1,
   "id": "c3dee508-d7bc-4762-8627-8207b4906325",
   "metadata": {},
   "outputs": [],
   "source": [
    "# set up hsds server, .hscfg problem is fixed with fix in personal slack.   \n",
    "import pickle\n",
    "import pandas as pd\n",
    "import os\n",
    "\n",
    "import math\n",
    "import numpy as np\n",
    "\n",
    "import matplotlib.pyplot as plt\n",
    "import tables\n",
    "from rex import WindX\n",
    "from rex import Resource\n",
    "import h5pyd\n",
    "import rex\n",
    "from rex import MultiFileResourceX, ResourceX, MultiTimeResourceX"
   ]
  },
  {
   "cell_type": "code",
   "execution_count": null,
   "id": "bdcac93f-2953-4405-bcba-83df257b2bb9",
   "metadata": {},
   "outputs": [],
   "source": [
    "\"\"\"\n",
    "Things to do:\n",
    "    1. Read coords from map_uid_lat_lon file.\n",
    "    2. get two corners of the region \n",
    "         - top left is max latitude, min longitude\n",
    "         - bottom right is min latitude, max longitude\n",
    "    3. Somehow, find a way to get multiple years of data into one ResourceX. The nrel tutorial is vague on this.\n",
    "    4. run res.ResourceX().box_gids(lat_lon_1, lat_lon_2) to get gids within the box. <- maybe run get_box_df\n",
    "    5. Copy the data\n",
    "    6. dfs = [pd.DataFrame(res[var, :, gid], index = ti) for gid in gids]\n",
    "    7. Save to different files (or something else, idk right now).\n",
    "\n",
    "    Rex Docs: \n",
    "    https://nrel.github.io/rex/_autosummary/rex.resource_extraction.resource_extraction.ResourceX.html#rex.resource_extraction.resource_extraction.ResourceX.box_gids\n",
    "\"\"\""
   ]
  },
  {
   "cell_type": "code",
   "execution_count": 2,
   "id": "1d6bffa9-e8f2-4066-bb2b-758b1425da0c",
   "metadata": {},
   "outputs": [
    {
     "name": "stdout",
     "output_type": "stream",
     "text": [
      "\n",
      " /nrel/sup3rcc/:\n",
      "conus_ecearth3_ssp585_r1i1p1f1\n",
      "conus_mriesm20_ssp585_r1i1p1f1\n"
     ]
    }
   ],
   "source": [
    "folder = \"/nrel/sup3rcc/\"\n",
    "with h5pyd.Folder(folder) as f:\n",
    "    print(f\"\\n {folder}:\")\n",
    "    for i in range(len(list(f))):\n",
    "        print(list(f)[i])\n"
   ]
  },
  {
   "cell_type": "code",
   "execution_count": 3,
   "id": "66e6f540-38f7-475a-828a-8ffbcd0b33e2",
   "metadata": {},
   "outputs": [],
   "source": [
    "# Coords data \n",
    "filename = \"map_uid_lat_lon.pkl\"\n",
    "with open(filename, 'rb') as file:\n",
    "    data = pickle.load(file)\n"
   ]
  },
  {
   "cell_type": "code",
   "execution_count": 4,
   "id": "8bb4098d-f29e-435d-935f-5f92b8062dbd",
   "metadata": {},
   "outputs": [
    {
     "name": "stdout",
     "output_type": "stream",
     "text": [
      "           index   latitude  longitude     gid\n",
      "0       1202_G_9  41.483776 -91.118699  799447\n",
      "1       1897_B_3  47.578635 -92.514570  300298\n",
      "2       1155_G_1  40.736379 -93.784580  859152\n",
      "3  56427_G_Unit1  42.669880 -89.075284  700620\n",
      "4       2005_G_5  45.929043 -93.632996  433658\n",
      "                           799447     300298   859152   700620     433658   \\\n",
      "time_index                                                                   \n",
      "2020-01-01 00:00:00+00:00    -7.19 -14.150000    -4.98    -6.98 -13.620000   \n",
      "2020-01-01 01:00:00+00:00    -7.46 -14.910000    -5.88    -9.25 -14.580000   \n",
      "2020-01-01 02:00:00+00:00    -8.45 -16.389999    -7.02   -11.16 -16.990000   \n",
      "2020-01-01 03:00:00+00:00    -9.61 -18.629999    -7.75   -12.61 -18.740000   \n",
      "2020-01-01 04:00:00+00:00   -10.14 -19.200001    -8.84   -13.51 -18.940001   \n",
      "\n",
      "                             509577   401782   645304   788119   645476   ...  \\\n",
      "time_index                                                                ...   \n",
      "2020-01-01 00:00:00+00:00 -11.600000    -7.46    -9.49    -6.57    -3.63  ...   \n",
      "2020-01-01 01:00:00+00:00 -13.060000    -8.36   -11.00    -6.96    -4.49  ...   \n",
      "2020-01-01 02:00:00+00:00 -15.330000    -9.52   -12.80    -7.53    -4.85  ...   \n",
      "2020-01-01 03:00:00+00:00 -16.879999   -10.39   -14.26    -8.02    -5.36  ...   \n",
      "2020-01-01 04:00:00+00:00 -17.379999   -11.12   -14.92    -8.46    -5.80  ...   \n",
      "\n",
      "                             463570   880125   1001953  854715     493569   \\\n",
      "time_index                                                                   \n",
      "2020-01-01 00:00:00+00:00 -12.570000    -4.87    -2.59    -4.39 -15.160000   \n",
      "2020-01-01 01:00:00+00:00 -13.910000    -3.58    -3.46    -3.36 -16.690001   \n",
      "2020-01-01 02:00:00+00:00 -16.420000    -4.38    -4.21    -3.98 -18.270000   \n",
      "2020-01-01 03:00:00+00:00 -18.110001    -5.32    -4.83    -5.19 -19.639999   \n",
      "2020-01-01 04:00:00+00:00 -18.480000    -5.99    -5.16    -6.03 -20.160000   \n",
      "\n",
      "                           509896   806565   675282   1052598  1027291  \n",
      "time_index                                                              \n",
      "2020-01-01 00:00:00+00:00    -8.83    -6.16   -11.49    -1.75    -2.24  \n",
      "2020-01-01 01:00:00+00:00    -9.05    -5.89   -12.22    -2.98    -3.34  \n",
      "2020-01-01 02:00:00+00:00   -10.04    -6.61   -13.23    -4.11    -4.26  \n",
      "2020-01-01 03:00:00+00:00   -10.78    -7.42   -14.18    -5.39    -5.06  \n",
      "2020-01-01 04:00:00+00:00   -11.29    -7.63   -14.99    -5.77    -5.34  \n",
      "\n",
      "[5 rows x 371 columns]\n"
     ]
    },
    {
     "ename": "HDF5ExtError",
     "evalue": "HDF5 error back trace\n\n  File \"D:\\bld\\hdf5_1733002084650\\work\\src\\H5F.c\", line 836, in H5Fopen\n    unable to synchronously open file\n  File \"D:\\bld\\hdf5_1733002084650\\work\\src\\H5F.c\", line 796, in H5F__open_api_common\n    unable to open file\n  File \"D:\\bld\\hdf5_1733002084650\\work\\src\\H5VLcallback.c\", line 3863, in H5VL_file_open\n    open failed\n  File \"D:\\bld\\hdf5_1733002084650\\work\\src\\H5VLcallback.c\", line 3675, in H5VL__file_open\n    open failed\n  File \"D:\\bld\\hdf5_1733002084650\\work\\src\\H5VLnative_file.c\", line 128, in H5VL__native_file_open\n    unable to open file\n  File \"D:\\bld\\hdf5_1733002084650\\work\\src\\H5Fint.c\", line 1960, in H5F_open\n    unable to lock the file\n  File \"D:\\bld\\hdf5_1733002084650\\work\\src\\H5FD.c\", line 2411, in H5FD_lock\n    driver lock request failed\n  File \"D:\\bld\\hdf5_1733002084650\\work\\src\\H5FDsec2.c\", line 941, in H5FD__sec2_lock\n    unable to lock file, errno = 0, error message = 'No error', Win32 GetLastError() = 33\n\nEnd of HDF5 error back trace\n\nUnable to open/create file 'temperatures_by_gid_time.h5'",
     "output_type": "error",
     "traceback": [
      "\u001b[1;31m---------------------------------------------------------------------------\u001b[0m",
      "\u001b[1;31mHDF5ExtError\u001b[0m                              Traceback (most recent call last)",
      "Cell \u001b[1;32mIn[4], line 22\u001b[0m\n\u001b[0;32m     19\u001b[0m \u001b[38;5;28mprint\u001b[39m(df\u001b[38;5;241m.\u001b[39mhead())\n\u001b[0;32m     21\u001b[0m outfile \u001b[38;5;241m=\u001b[39m \u001b[38;5;124m\"\u001b[39m\u001b[38;5;124mtemperatures_by_gid_time.h5\u001b[39m\u001b[38;5;124m\"\u001b[39m\n\u001b[1;32m---> 22\u001b[0m \u001b[43mdf\u001b[49m\u001b[38;5;241;43m.\u001b[39;49m\u001b[43mto_hdf\u001b[49m\u001b[43m(\u001b[49m\u001b[43moutfile\u001b[49m\u001b[43m,\u001b[49m\u001b[43m \u001b[49m\u001b[43mkey\u001b[49m\u001b[38;5;241;43m=\u001b[39;49m\u001b[38;5;124;43m'\u001b[39;49m\u001b[38;5;124;43mtemps\u001b[39;49m\u001b[38;5;124;43m'\u001b[39;49m\u001b[43m)\u001b[49m\n\u001b[0;32m     23\u001b[0m map_uid_df\u001b[38;5;241m.\u001b[39mto_hdf(outfile, key\u001b[38;5;241m=\u001b[39m\u001b[38;5;124m'\u001b[39m\u001b[38;5;124mgids\u001b[39m\u001b[38;5;124m'\u001b[39m)\n",
      "File \u001b[1;32m~\\AppData\\Local\\Programs\\Python\\Python313\\Lib\\site-packages\\pandas\\util\\_decorators.py:333\u001b[0m, in \u001b[0;36mdeprecate_nonkeyword_arguments.<locals>.decorate.<locals>.wrapper\u001b[1;34m(*args, **kwargs)\u001b[0m\n\u001b[0;32m    327\u001b[0m \u001b[38;5;28;01mif\u001b[39;00m \u001b[38;5;28mlen\u001b[39m(args) \u001b[38;5;241m>\u001b[39m num_allow_args:\n\u001b[0;32m    328\u001b[0m     warnings\u001b[38;5;241m.\u001b[39mwarn(\n\u001b[0;32m    329\u001b[0m         msg\u001b[38;5;241m.\u001b[39mformat(arguments\u001b[38;5;241m=\u001b[39m_format_argument_list(allow_args)),\n\u001b[0;32m    330\u001b[0m         \u001b[38;5;167;01mFutureWarning\u001b[39;00m,\n\u001b[0;32m    331\u001b[0m         stacklevel\u001b[38;5;241m=\u001b[39mfind_stack_level(),\n\u001b[0;32m    332\u001b[0m     )\n\u001b[1;32m--> 333\u001b[0m \u001b[38;5;28;01mreturn\u001b[39;00m \u001b[43mfunc\u001b[49m\u001b[43m(\u001b[49m\u001b[38;5;241;43m*\u001b[39;49m\u001b[43margs\u001b[49m\u001b[43m,\u001b[49m\u001b[43m \u001b[49m\u001b[38;5;241;43m*\u001b[39;49m\u001b[38;5;241;43m*\u001b[39;49m\u001b[43mkwargs\u001b[49m\u001b[43m)\u001b[49m\n",
      "File \u001b[1;32m~\\AppData\\Local\\Programs\\Python\\Python313\\Lib\\site-packages\\pandas\\core\\generic.py:2855\u001b[0m, in \u001b[0;36mNDFrame.to_hdf\u001b[1;34m(self, path_or_buf, key, mode, complevel, complib, append, format, index, min_itemsize, nan_rep, dropna, data_columns, errors, encoding)\u001b[0m\n\u001b[0;32m   2851\u001b[0m \u001b[38;5;28;01mfrom\u001b[39;00m\u001b[38;5;250m \u001b[39m\u001b[38;5;21;01mpandas\u001b[39;00m\u001b[38;5;21;01m.\u001b[39;00m\u001b[38;5;21;01mio\u001b[39;00m\u001b[38;5;250m \u001b[39m\u001b[38;5;28;01mimport\u001b[39;00m pytables\n\u001b[0;32m   2853\u001b[0m \u001b[38;5;66;03m# Argument 3 to \"to_hdf\" has incompatible type \"NDFrame\"; expected\u001b[39;00m\n\u001b[0;32m   2854\u001b[0m \u001b[38;5;66;03m# \"Union[DataFrame, Series]\" [arg-type]\u001b[39;00m\n\u001b[1;32m-> 2855\u001b[0m \u001b[43mpytables\u001b[49m\u001b[38;5;241;43m.\u001b[39;49m\u001b[43mto_hdf\u001b[49m\u001b[43m(\u001b[49m\n\u001b[0;32m   2856\u001b[0m \u001b[43m    \u001b[49m\u001b[43mpath_or_buf\u001b[49m\u001b[43m,\u001b[49m\n\u001b[0;32m   2857\u001b[0m \u001b[43m    \u001b[49m\u001b[43mkey\u001b[49m\u001b[43m,\u001b[49m\n\u001b[0;32m   2858\u001b[0m \u001b[43m    \u001b[49m\u001b[38;5;28;43mself\u001b[39;49m\u001b[43m,\u001b[49m\u001b[43m  \u001b[49m\u001b[38;5;66;43;03m# type: ignore[arg-type]\u001b[39;49;00m\n\u001b[0;32m   2859\u001b[0m \u001b[43m    \u001b[49m\u001b[43mmode\u001b[49m\u001b[38;5;241;43m=\u001b[39;49m\u001b[43mmode\u001b[49m\u001b[43m,\u001b[49m\n\u001b[0;32m   2860\u001b[0m \u001b[43m    \u001b[49m\u001b[43mcomplevel\u001b[49m\u001b[38;5;241;43m=\u001b[39;49m\u001b[43mcomplevel\u001b[49m\u001b[43m,\u001b[49m\n\u001b[0;32m   2861\u001b[0m \u001b[43m    \u001b[49m\u001b[43mcomplib\u001b[49m\u001b[38;5;241;43m=\u001b[39;49m\u001b[43mcomplib\u001b[49m\u001b[43m,\u001b[49m\n\u001b[0;32m   2862\u001b[0m \u001b[43m    \u001b[49m\u001b[43mappend\u001b[49m\u001b[38;5;241;43m=\u001b[39;49m\u001b[43mappend\u001b[49m\u001b[43m,\u001b[49m\n\u001b[0;32m   2863\u001b[0m \u001b[43m    \u001b[49m\u001b[38;5;28;43mformat\u001b[39;49m\u001b[38;5;241;43m=\u001b[39;49m\u001b[38;5;28;43mformat\u001b[39;49m\u001b[43m,\u001b[49m\n\u001b[0;32m   2864\u001b[0m \u001b[43m    \u001b[49m\u001b[43mindex\u001b[49m\u001b[38;5;241;43m=\u001b[39;49m\u001b[43mindex\u001b[49m\u001b[43m,\u001b[49m\n\u001b[0;32m   2865\u001b[0m \u001b[43m    \u001b[49m\u001b[43mmin_itemsize\u001b[49m\u001b[38;5;241;43m=\u001b[39;49m\u001b[43mmin_itemsize\u001b[49m\u001b[43m,\u001b[49m\n\u001b[0;32m   2866\u001b[0m \u001b[43m    \u001b[49m\u001b[43mnan_rep\u001b[49m\u001b[38;5;241;43m=\u001b[39;49m\u001b[43mnan_rep\u001b[49m\u001b[43m,\u001b[49m\n\u001b[0;32m   2867\u001b[0m \u001b[43m    \u001b[49m\u001b[43mdropna\u001b[49m\u001b[38;5;241;43m=\u001b[39;49m\u001b[43mdropna\u001b[49m\u001b[43m,\u001b[49m\n\u001b[0;32m   2868\u001b[0m \u001b[43m    \u001b[49m\u001b[43mdata_columns\u001b[49m\u001b[38;5;241;43m=\u001b[39;49m\u001b[43mdata_columns\u001b[49m\u001b[43m,\u001b[49m\n\u001b[0;32m   2869\u001b[0m \u001b[43m    \u001b[49m\u001b[43merrors\u001b[49m\u001b[38;5;241;43m=\u001b[39;49m\u001b[43merrors\u001b[49m\u001b[43m,\u001b[49m\n\u001b[0;32m   2870\u001b[0m \u001b[43m    \u001b[49m\u001b[43mencoding\u001b[49m\u001b[38;5;241;43m=\u001b[39;49m\u001b[43mencoding\u001b[49m\u001b[43m,\u001b[49m\n\u001b[0;32m   2871\u001b[0m \u001b[43m\u001b[49m\u001b[43m)\u001b[49m\n",
      "File \u001b[1;32m~\\AppData\\Local\\Programs\\Python\\Python313\\Lib\\site-packages\\pandas\\io\\pytables.py:308\u001b[0m, in \u001b[0;36mto_hdf\u001b[1;34m(path_or_buf, key, value, mode, complevel, complib, append, format, index, min_itemsize, nan_rep, dropna, data_columns, errors, encoding)\u001b[0m\n\u001b[0;32m    306\u001b[0m path_or_buf \u001b[38;5;241m=\u001b[39m stringify_path(path_or_buf)\n\u001b[0;32m    307\u001b[0m \u001b[38;5;28;01mif\u001b[39;00m \u001b[38;5;28misinstance\u001b[39m(path_or_buf, \u001b[38;5;28mstr\u001b[39m):\n\u001b[1;32m--> 308\u001b[0m     \u001b[38;5;28;01mwith\u001b[39;00m \u001b[43mHDFStore\u001b[49m\u001b[43m(\u001b[49m\n\u001b[0;32m    309\u001b[0m \u001b[43m        \u001b[49m\u001b[43mpath_or_buf\u001b[49m\u001b[43m,\u001b[49m\u001b[43m \u001b[49m\u001b[43mmode\u001b[49m\u001b[38;5;241;43m=\u001b[39;49m\u001b[43mmode\u001b[49m\u001b[43m,\u001b[49m\u001b[43m \u001b[49m\u001b[43mcomplevel\u001b[49m\u001b[38;5;241;43m=\u001b[39;49m\u001b[43mcomplevel\u001b[49m\u001b[43m,\u001b[49m\u001b[43m \u001b[49m\u001b[43mcomplib\u001b[49m\u001b[38;5;241;43m=\u001b[39;49m\u001b[43mcomplib\u001b[49m\n\u001b[0;32m    310\u001b[0m \u001b[43m    \u001b[49m\u001b[43m)\u001b[49m \u001b[38;5;28;01mas\u001b[39;00m store:\n\u001b[0;32m    311\u001b[0m         f(store)\n\u001b[0;32m    312\u001b[0m \u001b[38;5;28;01melse\u001b[39;00m:\n",
      "File \u001b[1;32m~\\AppData\\Local\\Programs\\Python\\Python313\\Lib\\site-packages\\pandas\\io\\pytables.py:585\u001b[0m, in \u001b[0;36mHDFStore.__init__\u001b[1;34m(self, path, mode, complevel, complib, fletcher32, **kwargs)\u001b[0m\n\u001b[0;32m    583\u001b[0m \u001b[38;5;28mself\u001b[39m\u001b[38;5;241m.\u001b[39m_fletcher32 \u001b[38;5;241m=\u001b[39m fletcher32\n\u001b[0;32m    584\u001b[0m \u001b[38;5;28mself\u001b[39m\u001b[38;5;241m.\u001b[39m_filters \u001b[38;5;241m=\u001b[39m \u001b[38;5;28;01mNone\u001b[39;00m\n\u001b[1;32m--> 585\u001b[0m \u001b[38;5;28;43mself\u001b[39;49m\u001b[38;5;241;43m.\u001b[39;49m\u001b[43mopen\u001b[49m\u001b[43m(\u001b[49m\u001b[43mmode\u001b[49m\u001b[38;5;241;43m=\u001b[39;49m\u001b[43mmode\u001b[49m\u001b[43m,\u001b[49m\u001b[43m \u001b[49m\u001b[38;5;241;43m*\u001b[39;49m\u001b[38;5;241;43m*\u001b[39;49m\u001b[43mkwargs\u001b[49m\u001b[43m)\u001b[49m\n",
      "File \u001b[1;32m~\\AppData\\Local\\Programs\\Python\\Python313\\Lib\\site-packages\\pandas\\io\\pytables.py:745\u001b[0m, in \u001b[0;36mHDFStore.open\u001b[1;34m(self, mode, **kwargs)\u001b[0m\n\u001b[0;32m    739\u001b[0m     msg \u001b[38;5;241m=\u001b[39m (\n\u001b[0;32m    740\u001b[0m         \u001b[38;5;124m\"\u001b[39m\u001b[38;5;124mCannot open HDF5 file, which is already opened, \u001b[39m\u001b[38;5;124m\"\u001b[39m\n\u001b[0;32m    741\u001b[0m         \u001b[38;5;124m\"\u001b[39m\u001b[38;5;124meven in read-only mode.\u001b[39m\u001b[38;5;124m\"\u001b[39m\n\u001b[0;32m    742\u001b[0m     )\n\u001b[0;32m    743\u001b[0m     \u001b[38;5;28;01mraise\u001b[39;00m \u001b[38;5;167;01mValueError\u001b[39;00m(msg)\n\u001b[1;32m--> 745\u001b[0m \u001b[38;5;28mself\u001b[39m\u001b[38;5;241m.\u001b[39m_handle \u001b[38;5;241m=\u001b[39m \u001b[43mtables\u001b[49m\u001b[38;5;241;43m.\u001b[39;49m\u001b[43mopen_file\u001b[49m\u001b[43m(\u001b[49m\u001b[38;5;28;43mself\u001b[39;49m\u001b[38;5;241;43m.\u001b[39;49m\u001b[43m_path\u001b[49m\u001b[43m,\u001b[49m\u001b[43m \u001b[49m\u001b[38;5;28;43mself\u001b[39;49m\u001b[38;5;241;43m.\u001b[39;49m\u001b[43m_mode\u001b[49m\u001b[43m,\u001b[49m\u001b[43m \u001b[49m\u001b[38;5;241;43m*\u001b[39;49m\u001b[38;5;241;43m*\u001b[39;49m\u001b[43mkwargs\u001b[49m\u001b[43m)\u001b[49m\n",
      "File \u001b[1;32m~\\AppData\\Local\\Programs\\Python\\Python313\\Lib\\site-packages\\tables\\file.py:325\u001b[0m, in \u001b[0;36mopen_file\u001b[1;34m(filename, mode, title, root_uep, filters, **kwargs)\u001b[0m\n\u001b[0;32m    319\u001b[0m             \u001b[38;5;28;01mraise\u001b[39;00m \u001b[38;5;167;01mValueError\u001b[39;00m(\n\u001b[0;32m    320\u001b[0m                 \u001b[38;5;124m\"\u001b[39m\u001b[38;5;124mThe file \u001b[39m\u001b[38;5;124m'\u001b[39m\u001b[38;5;132;01m%s\u001b[39;00m\u001b[38;5;124m'\u001b[39m\u001b[38;5;124m is already opened.  Please \u001b[39m\u001b[38;5;124m\"\u001b[39m\n\u001b[0;32m    321\u001b[0m                 \u001b[38;5;124m\"\u001b[39m\u001b[38;5;124mclose it before reopening in write mode.\u001b[39m\u001b[38;5;124m\"\u001b[39m \u001b[38;5;241m%\u001b[39m filename\n\u001b[0;32m    322\u001b[0m             )\n\u001b[0;32m    324\u001b[0m \u001b[38;5;66;03m# Finally, create the File instance, and return it\u001b[39;00m\n\u001b[1;32m--> 325\u001b[0m \u001b[38;5;28;01mreturn\u001b[39;00m \u001b[43mFile\u001b[49m\u001b[43m(\u001b[49m\u001b[43mfilename\u001b[49m\u001b[43m,\u001b[49m\u001b[43m \u001b[49m\u001b[43mmode\u001b[49m\u001b[43m,\u001b[49m\u001b[43m \u001b[49m\u001b[43mtitle\u001b[49m\u001b[43m,\u001b[49m\u001b[43m \u001b[49m\u001b[43mroot_uep\u001b[49m\u001b[43m,\u001b[49m\u001b[43m \u001b[49m\u001b[43mfilters\u001b[49m\u001b[43m,\u001b[49m\u001b[43m \u001b[49m\u001b[38;5;241;43m*\u001b[39;49m\u001b[38;5;241;43m*\u001b[39;49m\u001b[43mkwargs\u001b[49m\u001b[43m)\u001b[49m\n",
      "File \u001b[1;32m~\\AppData\\Local\\Programs\\Python\\Python313\\Lib\\site-packages\\tables\\file.py:811\u001b[0m, in \u001b[0;36mFile.__init__\u001b[1;34m(self, filename, mode, title, root_uep, filters, **kwargs)\u001b[0m\n\u001b[0;32m    808\u001b[0m \u001b[38;5;28mself\u001b[39m\u001b[38;5;241m.\u001b[39mparams \u001b[38;5;241m=\u001b[39m params\n\u001b[0;32m    810\u001b[0m \u001b[38;5;66;03m# Now, it is time to initialize the File extension\u001b[39;00m\n\u001b[1;32m--> 811\u001b[0m \u001b[38;5;28;43mself\u001b[39;49m\u001b[38;5;241;43m.\u001b[39;49m\u001b[43m_g_new\u001b[49m\u001b[43m(\u001b[49m\u001b[43mfilename\u001b[49m\u001b[43m,\u001b[49m\u001b[43m \u001b[49m\u001b[43mmode\u001b[49m\u001b[43m,\u001b[49m\u001b[43m \u001b[49m\u001b[38;5;241;43m*\u001b[39;49m\u001b[38;5;241;43m*\u001b[39;49m\u001b[43mparams\u001b[49m\u001b[43m)\u001b[49m\n\u001b[0;32m    813\u001b[0m \u001b[38;5;66;03m# Check filters and set PyTables format version for new files.\u001b[39;00m\n\u001b[0;32m    814\u001b[0m new \u001b[38;5;241m=\u001b[39m \u001b[38;5;28mself\u001b[39m\u001b[38;5;241m.\u001b[39m_v_new\n",
      "File \u001b[1;32m~\\AppData\\Local\\Programs\\Python\\Python313\\Lib\\site-packages\\tables\\hdf5extension.pyx:617\u001b[0m, in \u001b[0;36mtables.hdf5extension.File._g_new\u001b[1;34m()\u001b[0m\n",
      "\u001b[1;31mHDF5ExtError\u001b[0m: HDF5 error back trace\n\n  File \"D:\\bld\\hdf5_1733002084650\\work\\src\\H5F.c\", line 836, in H5Fopen\n    unable to synchronously open file\n  File \"D:\\bld\\hdf5_1733002084650\\work\\src\\H5F.c\", line 796, in H5F__open_api_common\n    unable to open file\n  File \"D:\\bld\\hdf5_1733002084650\\work\\src\\H5VLcallback.c\", line 3863, in H5VL_file_open\n    open failed\n  File \"D:\\bld\\hdf5_1733002084650\\work\\src\\H5VLcallback.c\", line 3675, in H5VL__file_open\n    open failed\n  File \"D:\\bld\\hdf5_1733002084650\\work\\src\\H5VLnative_file.c\", line 128, in H5VL__native_file_open\n    unable to open file\n  File \"D:\\bld\\hdf5_1733002084650\\work\\src\\H5Fint.c\", line 1960, in H5F_open\n    unable to lock the file\n  File \"D:\\bld\\hdf5_1733002084650\\work\\src\\H5FD.c\", line 2411, in H5FD_lock\n    driver lock request failed\n  File \"D:\\bld\\hdf5_1733002084650\\work\\src\\H5FDsec2.c\", line 941, in H5FD__sec2_lock\n    unable to lock file, errno = 0, error message = 'No error', Win32 GetLastError() = 33\n\nEnd of HDF5 error back trace\n\nUnable to open/create file 'temperatures_by_gid_time.h5'"
     ]
    }
   ],
   "source": [
    "# using European GCM\n",
    "gcm = \"ecearth3\"\n",
    "data_dir = \"/nrel/sup3rcc/conus_ecearth3_ssp585_r1i1p1f1/\"\n",
    "map_uid_df = pd.DataFrame.from_dict(data, orient='index', columns=['latitude', 'longitude']).reset_index()\n",
    "\n",
    "# Applying gid to lat, lon sites. requires ONE file to be read from\n",
    "filename = os.path.join(data_dir, f\"sup3rcc_conus_{gcm}_ssp585_r1i1p1f1_2020.h5\")\n",
    "res = ResourceX(filename, hsds=True)\n",
    "map_uid_df['gid'] = res.lat_lon_gid(list(data.values()))\n",
    "\n",
    "print(map_uid_df.head())\n",
    "\n",
    "# Now get temps. Estimated time: > 2 hours\n",
    "var = \"temperature_2m\"\n",
    "filename = os.path.join(data_dir, f\"sup3rcc_conus_{gcm}_ssp585_r1i1p1f1_202*.h5\")\n",
    "res = MultiTimeResourceX(filename, hsds=True)\n",
    "df = res.get_gid_df(var, map_uid_df.gid.unique())\n",
    "\n",
    "print(df.head())\n",
    "\n",
    "outfile = \"temperatures_by_gid_time.h5\"\n",
    "df.to_hdf(outfile, key='temps')\n",
    "map_uid_df.to_hdf(outfile, key='gids')\n"
   ]
  },
  {
   "cell_type": "code",
   "execution_count": 5,
   "id": "667967de-8404-4091-8845-81f7e4171bad",
   "metadata": {},
   "outputs": [],
   "source": [
    "# Get lat_lon_1 (top_left), lat_lon_2 (bottom_right)\n",
    "\n",
    "outfile = \"temperatures_by_gid_time_!.h5\"\n",
    "df.to_hdf(outfile, key='temps')\n",
    "map_uid_df.to_hdf(outfile, key='gids')\n"
   ]
  },
  {
   "cell_type": "code",
   "execution_count": 25,
   "id": "d7f32109-db66-47ac-9cf3-5e64d4e8e60e",
   "metadata": {},
   "outputs": [
    {
     "ename": "OSError",
     "evalue": "Could not open file in mode \"r\": \"/nrel/sup3rcc/conus_ecearth3_ssp585_r1i1p1f1/sup3rcc_conus_ecearth3_ssp585_r1i1p1f1_202*.h5\"",
     "output_type": "error",
     "traceback": [
      "\u001b[1;31m---------------------------------------------------------------------------\u001b[0m",
      "\u001b[1;31mOSError\u001b[0m                                   Traceback (most recent call last)",
      "File \u001b[1;32m~\\AppData\\Local\\Programs\\Python\\Python313\\Lib\\site-packages\\rex\\resource.py:644\u001b[0m, in \u001b[0;36mBaseResource.__init__\u001b[1;34m(self, h5_file, mode, unscale, str_decode, group, hsds, hsds_kwargs)\u001b[0m\n\u001b[0;32m    643\u001b[0m \u001b[38;5;28;01mtry\u001b[39;00m:\n\u001b[1;32m--> 644\u001b[0m     \u001b[38;5;28mself\u001b[39m\u001b[38;5;241m.\u001b[39m_h5 \u001b[38;5;241m=\u001b[39m \u001b[38;5;28;43mself\u001b[39;49m\u001b[38;5;241;43m.\u001b[39;49m\u001b[43mopen_file\u001b[49m\u001b[43m(\u001b[49m\u001b[43mh5_file\u001b[49m\u001b[43m,\u001b[49m\u001b[43m \u001b[49m\u001b[43mmode\u001b[49m\u001b[38;5;241;43m=\u001b[39;49m\u001b[43mmode\u001b[49m\u001b[43m,\u001b[49m\u001b[43m \u001b[49m\u001b[43mhsds\u001b[49m\u001b[38;5;241;43m=\u001b[39;49m\u001b[43mhsds\u001b[49m\u001b[43m,\u001b[49m\n\u001b[0;32m    645\u001b[0m \u001b[43m                              \u001b[49m\u001b[43mhsds_kwargs\u001b[49m\u001b[38;5;241;43m=\u001b[39;49m\u001b[43mhsds_kwargs\u001b[49m\u001b[43m)\u001b[49m\n\u001b[0;32m    646\u001b[0m \u001b[38;5;28;01mexcept\u001b[39;00m \u001b[38;5;167;01mException\u001b[39;00m \u001b[38;5;28;01mas\u001b[39;00m e:\n",
      "File \u001b[1;32m~\\AppData\\Local\\Programs\\Python\\Python313\\Lib\\site-packages\\rex\\resource.py:1161\u001b[0m, in \u001b[0;36mBaseResource.open_file\u001b[1;34m(cls, file_path, mode, hsds, hsds_kwargs)\u001b[0m\n\u001b[0;32m   1159\u001b[0m         hsds_kwargs \u001b[38;5;241m=\u001b[39m {}\n\u001b[1;32m-> 1161\u001b[0m     file \u001b[38;5;241m=\u001b[39m \u001b[43mh5pyd\u001b[49m\u001b[38;5;241;43m.\u001b[39;49m\u001b[43mFile\u001b[49m\u001b[43m(\u001b[49m\u001b[43mfile_path\u001b[49m\u001b[43m,\u001b[49m\u001b[43m \u001b[49m\u001b[43mmode\u001b[49m\u001b[38;5;241;43m=\u001b[39;49m\u001b[38;5;124;43m'\u001b[39;49m\u001b[38;5;124;43mr\u001b[39;49m\u001b[38;5;124;43m'\u001b[39;49m\u001b[43m,\u001b[49m\u001b[43m \u001b[49m\u001b[43muse_cache\u001b[49m\u001b[38;5;241;43m=\u001b[39;49m\u001b[38;5;28;43;01mFalse\u001b[39;49;00m\u001b[43m,\u001b[49m\n\u001b[0;32m   1162\u001b[0m \u001b[43m                      \u001b[49m\u001b[38;5;241;43m*\u001b[39;49m\u001b[38;5;241;43m*\u001b[39;49m\u001b[43mhsds_kwargs\u001b[49m\u001b[43m)\u001b[49m\n\u001b[0;32m   1164\u001b[0m \u001b[38;5;28;01melif\u001b[39;00m \u001b[38;5;28mcls\u001b[39m\u001b[38;5;241m.\u001b[39mis_s3_file(file_path):\n",
      "File \u001b[1;32m~\\AppData\\Local\\Programs\\Python\\Python313\\Lib\\site-packages\\h5pyd\\_hl\\files.py:462\u001b[0m, in \u001b[0;36mFile.__init__\u001b[1;34m(self, domain, mode, endpoint, username, password, bucket, api_key, use_session, use_cache, swmr, libver, logger, owner, linked_domain, track_order, retries, timeout, **kwds)\u001b[0m\n\u001b[0;32m    461\u001b[0m     http_conn\u001b[38;5;241m.\u001b[39mclose()\n\u001b[1;32m--> 462\u001b[0m     \u001b[38;5;28;01mraise\u001b[39;00m \u001b[38;5;167;01mIOError\u001b[39;00m(rsp\u001b[38;5;241m.\u001b[39mstatus_code, rsp\u001b[38;5;241m.\u001b[39mreason)\n\u001b[0;32m    463\u001b[0m \u001b[38;5;28;01mif\u001b[39;00m rsp\u001b[38;5;241m.\u001b[39mstatus_code \u001b[38;5;241m==\u001b[39m \u001b[38;5;241m200\u001b[39m \u001b[38;5;129;01mand\u001b[39;00m mode \u001b[38;5;129;01min\u001b[39;00m (\u001b[38;5;124m\"\u001b[39m\u001b[38;5;124mw-\u001b[39m\u001b[38;5;124m\"\u001b[39m, \u001b[38;5;124m\"\u001b[39m\u001b[38;5;124mx\u001b[39m\u001b[38;5;124m\"\u001b[39m):\n\u001b[0;32m    464\u001b[0m     \u001b[38;5;66;03m# Fail if exists\u001b[39;00m\n",
      "\u001b[1;31mOSError\u001b[0m: [Errno 404] Not Found",
      "\nThe above exception was the direct cause of the following exception:\n",
      "\u001b[1;31mOSError\u001b[0m                                   Traceback (most recent call last)",
      "Cell \u001b[1;32mIn[25], line 2\u001b[0m\n\u001b[0;32m      1\u001b[0m \u001b[38;5;66;03m#tree = sp.KDTree(list(data.values()), copy_data=True)\u001b[39;00m\n\u001b[1;32m----> 2\u001b[0m res \u001b[38;5;241m=\u001b[39m \u001b[43mResourceX\u001b[49m\u001b[43m(\u001b[49m\u001b[43mfilename\u001b[49m\u001b[43m,\u001b[49m\u001b[43m \u001b[49m\u001b[43mhsds\u001b[49m\u001b[38;5;241;43m=\u001b[39;49m\u001b[38;5;28;43;01mTrue\u001b[39;49;00m\u001b[43m)\u001b[49m\n\u001b[0;32m      3\u001b[0m map_uid_df[\u001b[38;5;124m'\u001b[39m\u001b[38;5;124mgid\u001b[39m\u001b[38;5;124m'\u001b[39m] \u001b[38;5;241m=\u001b[39m res\u001b[38;5;241m.\u001b[39mlat_lon_gid(\u001b[38;5;28mlist\u001b[39m(data\u001b[38;5;241m.\u001b[39mvalues()))\n",
      "File \u001b[1;32m~\\AppData\\Local\\Programs\\Python\\Python313\\Lib\\site-packages\\rex\\resource_extraction\\resource_extraction.py:87\u001b[0m, in \u001b[0;36mResourceX.__init__\u001b[1;34m(self, res_h5, res_cls, tree, unscale, str_decode, group, hsds, hsds_kwargs, log_vers)\u001b[0m\n\u001b[0;32m     84\u001b[0m     log_versions(logger)\n\u001b[0;32m     86\u001b[0m res_cls \u001b[38;5;241m=\u001b[39m \u001b[38;5;28mself\u001b[39m\u001b[38;5;241m.\u001b[39mDEFAULT_RES_CLS \u001b[38;5;28;01mif\u001b[39;00m res_cls \u001b[38;5;129;01mis\u001b[39;00m \u001b[38;5;28;01mNone\u001b[39;00m \u001b[38;5;28;01melse\u001b[39;00m res_cls\n\u001b[1;32m---> 87\u001b[0m \u001b[38;5;28mself\u001b[39m\u001b[38;5;241m.\u001b[39m_res \u001b[38;5;241m=\u001b[39m \u001b[43mres_cls\u001b[49m\u001b[43m(\u001b[49m\u001b[43mres_h5\u001b[49m\u001b[43m,\u001b[49m\u001b[43m \u001b[49m\u001b[43munscale\u001b[49m\u001b[38;5;241;43m=\u001b[39;49m\u001b[43munscale\u001b[49m\u001b[43m,\u001b[49m\u001b[43m \u001b[49m\u001b[43mstr_decode\u001b[49m\u001b[38;5;241;43m=\u001b[39;49m\u001b[43mstr_decode\u001b[49m\u001b[43m,\u001b[49m\n\u001b[0;32m     88\u001b[0m \u001b[43m                    \u001b[49m\u001b[43mgroup\u001b[49m\u001b[38;5;241;43m=\u001b[39;49m\u001b[43mgroup\u001b[49m\u001b[43m,\u001b[49m\u001b[43m \u001b[49m\u001b[43mhsds\u001b[49m\u001b[38;5;241;43m=\u001b[39;49m\u001b[43mhsds\u001b[49m\u001b[43m,\u001b[49m\u001b[43m \u001b[49m\u001b[43mhsds_kwargs\u001b[49m\u001b[38;5;241;43m=\u001b[39;49m\u001b[43mhsds_kwargs\u001b[49m\u001b[43m)\u001b[49m\n\u001b[0;32m     89\u001b[0m \u001b[38;5;28mself\u001b[39m\u001b[38;5;241m.\u001b[39m_dist_thresh \u001b[38;5;241m=\u001b[39m \u001b[38;5;28;01mNone\u001b[39;00m\n\u001b[0;32m     90\u001b[0m \u001b[38;5;28mself\u001b[39m\u001b[38;5;241m.\u001b[39m_tree \u001b[38;5;241m=\u001b[39m tree\n",
      "File \u001b[1;32m~\\AppData\\Local\\Programs\\Python\\Python313\\Lib\\site-packages\\rex\\resource.py:1897\u001b[0m, in \u001b[0;36mResource.__init__\u001b[1;34m(self, h5_file, unscale, str_decode, group, hsds, hsds_kwargs)\u001b[0m\n\u001b[0;32m   1871\u001b[0m \u001b[38;5;28;01mdef\u001b[39;00m\u001b[38;5;250m \u001b[39m\u001b[38;5;21m__init__\u001b[39m(\u001b[38;5;28mself\u001b[39m, h5_file, unscale\u001b[38;5;241m=\u001b[39m\u001b[38;5;28;01mTrue\u001b[39;00m, str_decode\u001b[38;5;241m=\u001b[39m\u001b[38;5;28;01mTrue\u001b[39;00m, group\u001b[38;5;241m=\u001b[39m\u001b[38;5;28;01mNone\u001b[39;00m,\n\u001b[0;32m   1872\u001b[0m              hsds\u001b[38;5;241m=\u001b[39m\u001b[38;5;28;01mFalse\u001b[39;00m, hsds_kwargs\u001b[38;5;241m=\u001b[39m\u001b[38;5;28;01mNone\u001b[39;00m):\n\u001b[0;32m   1873\u001b[0m \u001b[38;5;250m    \u001b[39m\u001b[38;5;124;03m\"\"\"\u001b[39;00m\n\u001b[0;32m   1874\u001b[0m \u001b[38;5;124;03m    Parameters\u001b[39;00m\n\u001b[0;32m   1875\u001b[0m \u001b[38;5;124;03m    ----------\u001b[39;00m\n\u001b[1;32m   (...)\u001b[0m\n\u001b[0;32m   1895\u001b[0m \u001b[38;5;124;03m        password, by default None\u001b[39;00m\n\u001b[0;32m   1896\u001b[0m \u001b[38;5;124;03m    \"\"\"\u001b[39;00m\n\u001b[1;32m-> 1897\u001b[0m     \u001b[38;5;28;43msuper\u001b[39;49m\u001b[43m(\u001b[49m\u001b[43m)\u001b[49m\u001b[38;5;241;43m.\u001b[39;49m\u001b[38;5;21;43m__init__\u001b[39;49m\u001b[43m(\u001b[49m\u001b[43mh5_file\u001b[49m\u001b[43m,\u001b[49m\u001b[43m \u001b[49m\u001b[43munscale\u001b[49m\u001b[38;5;241;43m=\u001b[39;49m\u001b[43munscale\u001b[49m\u001b[43m,\u001b[49m\u001b[43m \u001b[49m\u001b[43mstr_decode\u001b[49m\u001b[38;5;241;43m=\u001b[39;49m\u001b[43mstr_decode\u001b[49m\u001b[43m,\u001b[49m\n\u001b[0;32m   1898\u001b[0m \u001b[43m                     \u001b[49m\u001b[43mgroup\u001b[49m\u001b[38;5;241;43m=\u001b[39;49m\u001b[43mgroup\u001b[49m\u001b[43m,\u001b[49m\u001b[43m \u001b[49m\u001b[43mmode\u001b[49m\u001b[38;5;241;43m=\u001b[39;49m\u001b[38;5;124;43m'\u001b[39;49m\u001b[38;5;124;43mr\u001b[39;49m\u001b[38;5;124;43m'\u001b[39;49m\u001b[43m,\u001b[49m\u001b[43m \u001b[49m\u001b[43mhsds\u001b[49m\u001b[38;5;241;43m=\u001b[39;49m\u001b[43mhsds\u001b[49m\u001b[43m,\u001b[49m\n\u001b[0;32m   1899\u001b[0m \u001b[43m                     \u001b[49m\u001b[43mhsds_kwargs\u001b[49m\u001b[38;5;241;43m=\u001b[39;49m\u001b[43mhsds_kwargs\u001b[49m\u001b[43m)\u001b[49m\n",
      "File \u001b[1;32m~\\AppData\\Local\\Programs\\Python\\Python313\\Lib\\site-packages\\rex\\resource.py:649\u001b[0m, in \u001b[0;36mBaseResource.__init__\u001b[1;34m(self, h5_file, mode, unscale, str_decode, group, hsds, hsds_kwargs)\u001b[0m\n\u001b[0;32m    647\u001b[0m     msg \u001b[38;5;241m=\u001b[39m \u001b[38;5;124mf\u001b[39m\u001b[38;5;124m'\u001b[39m\u001b[38;5;124mCould not open file in mode \u001b[39m\u001b[38;5;124m\"\u001b[39m\u001b[38;5;132;01m{\u001b[39;00mmode\u001b[38;5;132;01m}\u001b[39;00m\u001b[38;5;124m\"\u001b[39m\u001b[38;5;124m: \u001b[39m\u001b[38;5;124m\"\u001b[39m\u001b[38;5;132;01m{\u001b[39;00mh5_file\u001b[38;5;132;01m}\u001b[39;00m\u001b[38;5;124m\"\u001b[39m\u001b[38;5;124m'\u001b[39m\n\u001b[0;32m    648\u001b[0m     logger\u001b[38;5;241m.\u001b[39merror(msg)\n\u001b[1;32m--> 649\u001b[0m     \u001b[38;5;28;01mraise\u001b[39;00m \u001b[38;5;167;01mOSError\u001b[39;00m(msg) \u001b[38;5;28;01mfrom\u001b[39;00m\u001b[38;5;250m \u001b[39m\u001b[38;5;21;01me\u001b[39;00m\n\u001b[0;32m    651\u001b[0m \u001b[38;5;28mself\u001b[39m\u001b[38;5;241m.\u001b[39m_group \u001b[38;5;241m=\u001b[39m group\n\u001b[0;32m    652\u001b[0m \u001b[38;5;28mself\u001b[39m\u001b[38;5;241m.\u001b[39m_unscale \u001b[38;5;241m=\u001b[39m unscale\n",
      "\u001b[1;31mOSError\u001b[0m: Could not open file in mode \"r\": \"/nrel/sup3rcc/conus_ecearth3_ssp585_r1i1p1f1/sup3rcc_conus_ecearth3_ssp585_r1i1p1f1_202*.h5\""
     ]
    }
   ],
   "source": [
    "#tree = sp.KDTree(list(data.values()), copy_data=True)\n"
   ]
  },
  {
   "cell_type": "code",
   "execution_count": 1,
   "id": "5e809460-9eb1-4c3f-8185-724c55658cb2",
   "metadata": {},
   "outputs": [
    {
     "ename": "NameError",
     "evalue": "name 'df' is not defined",
     "output_type": "error",
     "traceback": [
      "\u001b[1;31m---------------------------------------------------------------------------\u001b[0m",
      "\u001b[1;31mNameError\u001b[0m                                 Traceback (most recent call last)",
      "Cell \u001b[1;32mIn[1], line 1\u001b[0m\n\u001b[1;32m----> 1\u001b[0m \u001b[43mdf\u001b[49m\u001b[38;5;241m.\u001b[39mto_hdf(outfile, key\u001b[38;5;241m=\u001b[39m\u001b[38;5;124m'\u001b[39m\u001b[38;5;124mtemps\u001b[39m\u001b[38;5;124m'\u001b[39m)\n\u001b[0;32m      2\u001b[0m map_uid_df\u001b[38;5;241m.\u001b[39mto_hdf(outfile, key\u001b[38;5;241m=\u001b[39m\u001b[38;5;124m'\u001b[39m\u001b[38;5;124mgids\u001b[39m\u001b[38;5;124m'\u001b[39m)\n",
      "\u001b[1;31mNameError\u001b[0m: name 'df' is not defined"
     ]
    }
   ],
   "source": [
    "df.to_hdf(outfile, key='temps')\n",
    "map_uid_df.to_hdf(outfile, key='gids')"
   ]
  },
  {
   "cell_type": "code",
   "execution_count": 18,
   "id": "ae232703-413c-414c-ba46-9802c7d45fa4",
   "metadata": {},
   "outputs": [
    {
     "data": {
      "text/plain": [
       "(8760, 371)"
      ]
     },
     "execution_count": 18,
     "metadata": {},
     "output_type": "execute_result"
    }
   ],
   "source": [
    "df.shape"
   ]
  },
  {
   "cell_type": "code",
   "execution_count": 7,
   "id": "930933b6-347d-4777-9fa9-50e2e3c72df7",
   "metadata": {},
   "outputs": [
    {
     "name": "stdout",
     "output_type": "stream",
     "text": [
      "['/gids', '/temps']\n"
     ]
    }
   ],
   "source": [
    "#Opening datapandas.HDFStore(data_store)\n"
   ]
  },
  {
   "cell_type": "code",
   "execution_count": 26,
   "id": "89706116-7f5a-4bef-9aca-90cfeca729fa",
   "metadata": {},
   "outputs": [
    {
     "data": {
      "text/html": [
       "<div>\n",
       "<style scoped>\n",
       "    .dataframe tbody tr th:only-of-type {\n",
       "        vertical-align: middle;\n",
       "    }\n",
       "\n",
       "    .dataframe tbody tr th {\n",
       "        vertical-align: top;\n",
       "    }\n",
       "\n",
       "    .dataframe thead th {\n",
       "        text-align: right;\n",
       "    }\n",
       "</style>\n",
       "<table border=\"1\" class=\"dataframe\">\n",
       "  <thead>\n",
       "    <tr style=\"text-align: right;\">\n",
       "      <th></th>\n",
       "      <th>index</th>\n",
       "      <th>latitude</th>\n",
       "      <th>longitude</th>\n",
       "    </tr>\n",
       "  </thead>\n",
       "  <tbody>\n",
       "    <tr>\n",
       "      <th>0</th>\n",
       "      <td>1202_G_9</td>\n",
       "      <td>41.483776</td>\n",
       "      <td>-91.118699</td>\n",
       "    </tr>\n",
       "    <tr>\n",
       "      <th>1</th>\n",
       "      <td>1897_B_3</td>\n",
       "      <td>47.578635</td>\n",
       "      <td>-92.514570</td>\n",
       "    </tr>\n",
       "    <tr>\n",
       "      <th>2</th>\n",
       "      <td>1155_G_1</td>\n",
       "      <td>40.736379</td>\n",
       "      <td>-93.784580</td>\n",
       "    </tr>\n",
       "    <tr>\n",
       "      <th>3</th>\n",
       "      <td>56427_G_Unit1</td>\n",
       "      <td>42.669880</td>\n",
       "      <td>-89.075284</td>\n",
       "    </tr>\n",
       "    <tr>\n",
       "      <th>4</th>\n",
       "      <td>2005_G_5</td>\n",
       "      <td>45.929043</td>\n",
       "      <td>-93.632996</td>\n",
       "    </tr>\n",
       "  </tbody>\n",
       "</table>\n",
       "</div>"
      ],
      "text/plain": [
       "           index   latitude  longitude\n",
       "0       1202_G_9  41.483776 -91.118699\n",
       "1       1897_B_3  47.578635 -92.514570\n",
       "2       1155_G_1  40.736379 -93.784580\n",
       "3  56427_G_Unit1  42.669880 -89.075284\n",
       "4       2005_G_5  45.929043 -93.632996"
      ]
     },
     "execution_count": 26,
     "metadata": {},
     "output_type": "execute_result"
    }
   ],
   "source": [
    "map_uid_df.head()"
   ]
  }
 ],
 "metadata": {
  "kernelspec": {
   "display_name": "Python 3 (ipykernel)",
   "language": "python",
   "name": "python3"
  },
  "language_info": {
   "codemirror_mode": {
    "name": "ipython",
    "version": 3
   },
   "file_extension": ".py",
   "mimetype": "text/x-python",
   "name": "python",
   "nbconvert_exporter": "python",
   "pygments_lexer": "ipython3",
   "version": "3.13.0"
  }
 },
 "nbformat": 4,
 "nbformat_minor": 5
}
