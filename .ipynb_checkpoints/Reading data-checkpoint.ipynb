{
 "cells": [
  {
   "cell_type": "code",
   "execution_count": 24,
   "id": "317e1c4f-574e-47a8-adea-e63c4b335e42",
   "metadata": {},
   "outputs": [],
   "source": [
    "'''\n",
    "    Way to get it is by opening the file as an HDF\n",
    "    Problem with the data is that the given coords \n",
    "    don't map cleanly to only one gid, so I recorded\n",
    "    the unique gid's for the years 2020-2029 (inclusive?).\n",
    "\n",
    "    There were 3381 locations given, and 371 unique gids\n",
    "    recorded.\n",
    "\n",
    "    The mapping from a gid to temperature range is to get \n",
    "    the gid from the '/gids' table in the hdf, based on\n",
    "    the site name (or coords), then taking the column in\n",
    "    the '/temps' table named after that gid. \n",
    "    \n",
    "    temps_df[\n",
    "    \n",
    "'''\n",
    "import pickle\n",
    "import pandas as pd\n",
    "import os\n",
    "\n",
    "import math\n",
    "import numpy as np\n",
    "import pyarrow\n",
    "import matplotlib.pyplot as plt\n",
    "import tables\n",
    "from rex import WindX\n",
    "from rex import Resource\n",
    "import h5pyd\n",
    "import rex\n",
    "from rex import MultiFileResourceX, ResourceX, MultiTimeResourceX"
   ]
  },
  {
   "cell_type": "code",
   "execution_count": 4,
   "id": "1284b716-3f5b-4ab7-b7ae-564a85803883",
   "metadata": {},
   "outputs": [
    {
     "name": "stdout",
     "output_type": "stream",
     "text": [
      "['/gids', '/temps']\n",
      "           index   latitude  longitude     gid\n",
      "0       1202_G_9  41.483776 -91.118699  799447\n",
      "1       1897_B_3  47.578635 -92.514570  300298\n",
      "2       1155_G_1  40.736379 -93.784580  859152\n",
      "3  56427_G_Unit1  42.669880 -89.075284  700620\n",
      "4       2005_G_5  45.929043 -93.632996  433658\n",
      "                           799447     300298   859152   700620     433658   \\\n",
      "time_index                                                                   \n",
      "2020-01-01 00:00:00+00:00    -7.19 -14.150000    -4.98    -6.98 -13.620000   \n",
      "2020-01-01 01:00:00+00:00    -7.46 -14.910000    -5.88    -9.25 -14.580000   \n",
      "2020-01-01 02:00:00+00:00    -8.45 -16.389999    -7.02   -11.16 -16.990000   \n",
      "2020-01-01 03:00:00+00:00    -9.61 -18.629999    -7.75   -12.61 -18.740000   \n",
      "2020-01-01 04:00:00+00:00   -10.14 -19.200001    -8.84   -13.51 -18.940001   \n",
      "\n",
      "                             509577   401782   645304   788119   645476   ...  \\\n",
      "time_index                                                                ...   \n",
      "2020-01-01 00:00:00+00:00 -11.600000    -7.46    -9.49    -6.57    -3.63  ...   \n",
      "2020-01-01 01:00:00+00:00 -13.060000    -8.36   -11.00    -6.96    -4.49  ...   \n",
      "2020-01-01 02:00:00+00:00 -15.330000    -9.52   -12.80    -7.53    -4.85  ...   \n",
      "2020-01-01 03:00:00+00:00 -16.879999   -10.39   -14.26    -8.02    -5.36  ...   \n",
      "2020-01-01 04:00:00+00:00 -17.379999   -11.12   -14.92    -8.46    -5.80  ...   \n",
      "\n",
      "                             463570   880125   1001953  854715     493569   \\\n",
      "time_index                                                                   \n",
      "2020-01-01 00:00:00+00:00 -12.570000    -4.87    -2.59    -4.39 -15.160000   \n",
      "2020-01-01 01:00:00+00:00 -13.910000    -3.58    -3.46    -3.36 -16.690001   \n",
      "2020-01-01 02:00:00+00:00 -16.420000    -4.38    -4.21    -3.98 -18.270000   \n",
      "2020-01-01 03:00:00+00:00 -18.110001    -5.32    -4.83    -5.19 -19.639999   \n",
      "2020-01-01 04:00:00+00:00 -18.480000    -5.99    -5.16    -6.03 -20.160000   \n",
      "\n",
      "                           509896   806565   675282   1052598  1027291  \n",
      "time_index                                                              \n",
      "2020-01-01 00:00:00+00:00    -8.83    -6.16   -11.49    -1.75    -2.24  \n",
      "2020-01-01 01:00:00+00:00    -9.05    -5.89   -12.22    -2.98    -3.34  \n",
      "2020-01-01 02:00:00+00:00   -10.04    -6.61   -13.23    -4.11    -4.26  \n",
      "2020-01-01 03:00:00+00:00   -10.78    -7.42   -14.18    -5.39    -5.06  \n",
      "2020-01-01 04:00:00+00:00   -11.29    -7.63   -14.99    -5.77    -5.34  \n",
      "\n",
      "[5 rows x 371 columns]\n"
     ]
    }
   ],
   "source": [
    "with pd.HDFStore(\"temperatures_by_gid_time.h5\") as hdf:\n",
    "    print(hdf.keys())\n",
    "    map_uid_df = hdf.get('/gids')\n",
    "    temp_df = hdf.get('/temps')\n",
    "    print(map_uid_df.head())\n",
    "    print(temp_df.head())"
   ]
  },
  {
   "cell_type": "code",
   "execution_count": 8,
   "id": "de1daa6a-a9ee-420a-ba8e-82b8d451870b",
   "metadata": {},
   "outputs": [],
   "source": [
    "fname = \"temperatures_by_gid_time.h5\"\n",
    "hdf = pd.HDFStore(fname)\n",
    "map_uid_df = hdf.get('/gids')\n",
    "temp_df = hdf.get('/temps')\n"
   ]
  },
  {
   "cell_type": "code",
   "execution_count": 15,
   "id": "1ad96813-14b3-4f87-beb6-5a6c4166ad4d",
   "metadata": {},
   "outputs": [
    {
     "data": {
      "text/html": [
       "<div>\n",
       "<style scoped>\n",
       "    .dataframe tbody tr th:only-of-type {\n",
       "        vertical-align: middle;\n",
       "    }\n",
       "\n",
       "    .dataframe tbody tr th {\n",
       "        vertical-align: top;\n",
       "    }\n",
       "\n",
       "    .dataframe thead th {\n",
       "        text-align: right;\n",
       "    }\n",
       "</style>\n",
       "<table border=\"1\" class=\"dataframe\">\n",
       "  <thead>\n",
       "    <tr style=\"text-align: right;\">\n",
       "      <th></th>\n",
       "      <th>index</th>\n",
       "      <th>latitude</th>\n",
       "      <th>longitude</th>\n",
       "      <th>gid</th>\n",
       "    </tr>\n",
       "  </thead>\n",
       "  <tbody>\n",
       "    <tr>\n",
       "      <th>0</th>\n",
       "      <td>1202_G_9</td>\n",
       "      <td>41.483776</td>\n",
       "      <td>-91.118699</td>\n",
       "      <td>799447</td>\n",
       "    </tr>\n",
       "    <tr>\n",
       "      <th>1</th>\n",
       "      <td>1897_B_3</td>\n",
       "      <td>47.578635</td>\n",
       "      <td>-92.514570</td>\n",
       "      <td>300298</td>\n",
       "    </tr>\n",
       "    <tr>\n",
       "      <th>2</th>\n",
       "      <td>1155_G_1</td>\n",
       "      <td>40.736379</td>\n",
       "      <td>-93.784580</td>\n",
       "      <td>859152</td>\n",
       "    </tr>\n",
       "    <tr>\n",
       "      <th>3</th>\n",
       "      <td>56427_G_Unit1</td>\n",
       "      <td>42.669880</td>\n",
       "      <td>-89.075284</td>\n",
       "      <td>700620</td>\n",
       "    </tr>\n",
       "    <tr>\n",
       "      <th>4</th>\n",
       "      <td>2005_G_5</td>\n",
       "      <td>45.929043</td>\n",
       "      <td>-93.632996</td>\n",
       "      <td>433658</td>\n",
       "    </tr>\n",
       "  </tbody>\n",
       "</table>\n",
       "</div>"
      ],
      "text/plain": [
       "           index   latitude  longitude     gid\n",
       "0       1202_G_9  41.483776 -91.118699  799447\n",
       "1       1897_B_3  47.578635 -92.514570  300298\n",
       "2       1155_G_1  40.736379 -93.784580  859152\n",
       "3  56427_G_Unit1  42.669880 -89.075284  700620\n",
       "4       2005_G_5  45.929043 -93.632996  433658"
      ]
     },
     "execution_count": 15,
     "metadata": {},
     "output_type": "execute_result"
    }
   ],
   "source": [
    "map_uid_df.head()"
   ]
  },
  {
   "cell_type": "code",
   "execution_count": 25,
   "id": "52c988ef-d688-4eba-be06-5ab2acfe1e70",
   "metadata": {},
   "outputs": [
    {
     "ename": "NameError",
     "evalue": "name 'ArrowDtype' is not defined",
     "output_type": "error",
     "traceback": [
      "\u001b[1;31m---------------------------------------------------------------------------\u001b[0m",
      "\u001b[1;31mNameError\u001b[0m                                 Traceback (most recent call last)",
      "Cell \u001b[1;32mIn[25], line 1\u001b[0m\n\u001b[1;32m----> 1\u001b[0m map_uid_df \u001b[38;5;241m=\u001b[39m \u001b[43mmap_uid_df\u001b[49m\u001b[38;5;241;43m.\u001b[39;49m\u001b[43mconvert_dtypes\u001b[49m\u001b[43m(\u001b[49m\u001b[43mdtype_backend\u001b[49m\u001b[38;5;241;43m=\u001b[39;49m\u001b[38;5;124;43m'\u001b[39;49m\u001b[38;5;124;43mpyarrow\u001b[39;49m\u001b[38;5;124;43m'\u001b[39;49m\u001b[43m)\u001b[49m\n",
      "File \u001b[1;32m~\\AppData\\Local\\Programs\\Python\\Python313\\Lib\\site-packages\\pandas\\core\\generic.py:7031\u001b[0m, in \u001b[0;36mNDFrame.convert_dtypes\u001b[1;34m(self, infer_objects, convert_string, convert_integer, convert_boolean, convert_floating, dtype_backend)\u001b[0m\n\u001b[0;32m   6902\u001b[0m \u001b[38;5;250m\u001b[39m\u001b[38;5;124;03m\"\"\"\u001b[39;00m\n\u001b[0;32m   6903\u001b[0m \u001b[38;5;124;03mConvert columns to the best possible dtypes using dtypes supporting ``pd.NA``.\u001b[39;00m\n\u001b[0;32m   6904\u001b[0m \n\u001b[1;32m   (...)\u001b[0m\n\u001b[0;32m   7028\u001b[0m \u001b[38;5;124;03mdtype: string\u001b[39;00m\n\u001b[0;32m   7029\u001b[0m \u001b[38;5;124;03m\"\"\"\u001b[39;00m\n\u001b[0;32m   7030\u001b[0m check_dtype_backend(dtype_backend)\n\u001b[1;32m-> 7031\u001b[0m new_mgr \u001b[38;5;241m=\u001b[39m \u001b[38;5;28;43mself\u001b[39;49m\u001b[38;5;241;43m.\u001b[39;49m\u001b[43m_mgr\u001b[49m\u001b[38;5;241;43m.\u001b[39;49m\u001b[43mconvert_dtypes\u001b[49m\u001b[43m(\u001b[49m\u001b[43m  \u001b[49m\u001b[38;5;66;43;03m# type: ignore[union-attr]\u001b[39;49;00m\n\u001b[0;32m   7032\u001b[0m \u001b[43m    \u001b[49m\u001b[43minfer_objects\u001b[49m\u001b[38;5;241;43m=\u001b[39;49m\u001b[43minfer_objects\u001b[49m\u001b[43m,\u001b[49m\n\u001b[0;32m   7033\u001b[0m \u001b[43m    \u001b[49m\u001b[43mconvert_string\u001b[49m\u001b[38;5;241;43m=\u001b[39;49m\u001b[43mconvert_string\u001b[49m\u001b[43m,\u001b[49m\n\u001b[0;32m   7034\u001b[0m \u001b[43m    \u001b[49m\u001b[43mconvert_integer\u001b[49m\u001b[38;5;241;43m=\u001b[39;49m\u001b[43mconvert_integer\u001b[49m\u001b[43m,\u001b[49m\n\u001b[0;32m   7035\u001b[0m \u001b[43m    \u001b[49m\u001b[43mconvert_boolean\u001b[49m\u001b[38;5;241;43m=\u001b[39;49m\u001b[43mconvert_boolean\u001b[49m\u001b[43m,\u001b[49m\n\u001b[0;32m   7036\u001b[0m \u001b[43m    \u001b[49m\u001b[43mconvert_floating\u001b[49m\u001b[38;5;241;43m=\u001b[39;49m\u001b[43mconvert_floating\u001b[49m\u001b[43m,\u001b[49m\n\u001b[0;32m   7037\u001b[0m \u001b[43m    \u001b[49m\u001b[43mdtype_backend\u001b[49m\u001b[38;5;241;43m=\u001b[39;49m\u001b[43mdtype_backend\u001b[49m\u001b[43m,\u001b[49m\n\u001b[0;32m   7038\u001b[0m \u001b[43m\u001b[49m\u001b[43m)\u001b[49m\n\u001b[0;32m   7039\u001b[0m res \u001b[38;5;241m=\u001b[39m \u001b[38;5;28mself\u001b[39m\u001b[38;5;241m.\u001b[39m_constructor_from_mgr(new_mgr, axes\u001b[38;5;241m=\u001b[39mnew_mgr\u001b[38;5;241m.\u001b[39maxes)\n\u001b[0;32m   7040\u001b[0m \u001b[38;5;28;01mreturn\u001b[39;00m res\u001b[38;5;241m.\u001b[39m__finalize__(\u001b[38;5;28mself\u001b[39m, method\u001b[38;5;241m=\u001b[39m\u001b[38;5;124m\"\u001b[39m\u001b[38;5;124mconvert_dtypes\u001b[39m\u001b[38;5;124m\"\u001b[39m)\n",
      "File \u001b[1;32m~\\AppData\\Local\\Programs\\Python\\Python313\\Lib\\site-packages\\pandas\\core\\internals\\managers.py:455\u001b[0m, in \u001b[0;36mBaseBlockManager.convert_dtypes\u001b[1;34m(self, **kwargs)\u001b[0m\n\u001b[0;32m    452\u001b[0m \u001b[38;5;28;01melse\u001b[39;00m:\n\u001b[0;32m    453\u001b[0m     copy \u001b[38;5;241m=\u001b[39m \u001b[38;5;28;01mTrue\u001b[39;00m\n\u001b[1;32m--> 455\u001b[0m \u001b[38;5;28;01mreturn\u001b[39;00m \u001b[38;5;28;43mself\u001b[39;49m\u001b[38;5;241;43m.\u001b[39;49m\u001b[43mapply\u001b[49m\u001b[43m(\u001b[49m\n\u001b[0;32m    456\u001b[0m \u001b[43m    \u001b[49m\u001b[38;5;124;43m\"\u001b[39;49m\u001b[38;5;124;43mconvert_dtypes\u001b[39;49m\u001b[38;5;124;43m\"\u001b[39;49m\u001b[43m,\u001b[49m\u001b[43m \u001b[49m\u001b[43mcopy\u001b[49m\u001b[38;5;241;43m=\u001b[39;49m\u001b[43mcopy\u001b[49m\u001b[43m,\u001b[49m\u001b[43m \u001b[49m\u001b[43musing_cow\u001b[49m\u001b[38;5;241;43m=\u001b[39;49m\u001b[43musing_copy_on_write\u001b[49m\u001b[43m(\u001b[49m\u001b[43m)\u001b[49m\u001b[43m,\u001b[49m\u001b[43m \u001b[49m\u001b[38;5;241;43m*\u001b[39;49m\u001b[38;5;241;43m*\u001b[39;49m\u001b[43mkwargs\u001b[49m\n\u001b[0;32m    457\u001b[0m \u001b[43m\u001b[49m\u001b[43m)\u001b[49m\n",
      "File \u001b[1;32m~\\AppData\\Local\\Programs\\Python\\Python313\\Lib\\site-packages\\pandas\\core\\internals\\managers.py:363\u001b[0m, in \u001b[0;36mBaseBlockManager.apply\u001b[1;34m(self, f, align_keys, **kwargs)\u001b[0m\n\u001b[0;32m    361\u001b[0m         applied \u001b[38;5;241m=\u001b[39m b\u001b[38;5;241m.\u001b[39mapply(f, \u001b[38;5;241m*\u001b[39m\u001b[38;5;241m*\u001b[39mkwargs)\n\u001b[0;32m    362\u001b[0m     \u001b[38;5;28;01melse\u001b[39;00m:\n\u001b[1;32m--> 363\u001b[0m         applied \u001b[38;5;241m=\u001b[39m \u001b[38;5;28;43mgetattr\u001b[39;49m\u001b[43m(\u001b[49m\u001b[43mb\u001b[49m\u001b[43m,\u001b[49m\u001b[43m \u001b[49m\u001b[43mf\u001b[49m\u001b[43m)\u001b[49m\u001b[43m(\u001b[49m\u001b[38;5;241;43m*\u001b[39;49m\u001b[38;5;241;43m*\u001b[39;49m\u001b[43mkwargs\u001b[49m\u001b[43m)\u001b[49m\n\u001b[0;32m    364\u001b[0m     result_blocks \u001b[38;5;241m=\u001b[39m extend_blocks(applied, result_blocks)\n\u001b[0;32m    366\u001b[0m out \u001b[38;5;241m=\u001b[39m \u001b[38;5;28mtype\u001b[39m(\u001b[38;5;28mself\u001b[39m)\u001b[38;5;241m.\u001b[39mfrom_blocks(result_blocks, \u001b[38;5;28mself\u001b[39m\u001b[38;5;241m.\u001b[39maxes)\n",
      "File \u001b[1;32m~\\AppData\\Local\\Programs\\Python\\Python313\\Lib\\site-packages\\pandas\\core\\internals\\blocks.py:695\u001b[0m, in \u001b[0;36mBlock.convert_dtypes\u001b[1;34m(self, copy, using_cow, infer_objects, convert_string, convert_integer, convert_boolean, convert_floating, dtype_backend)\u001b[0m\n\u001b[0;32m    691\u001b[0m \u001b[38;5;28;01mfor\u001b[39;00m blk \u001b[38;5;129;01min\u001b[39;00m blks:\n\u001b[0;32m    692\u001b[0m     \u001b[38;5;66;03m# Determine dtype column by column\u001b[39;00m\n\u001b[0;32m    693\u001b[0m     sub_blks \u001b[38;5;241m=\u001b[39m [blk] \u001b[38;5;28;01mif\u001b[39;00m blk\u001b[38;5;241m.\u001b[39mndim \u001b[38;5;241m==\u001b[39m \u001b[38;5;241m1\u001b[39m \u001b[38;5;129;01mor\u001b[39;00m \u001b[38;5;28mself\u001b[39m\u001b[38;5;241m.\u001b[39mshape[\u001b[38;5;241m0\u001b[39m] \u001b[38;5;241m==\u001b[39m \u001b[38;5;241m1\u001b[39m \u001b[38;5;28;01melse\u001b[39;00m blk\u001b[38;5;241m.\u001b[39m_split()\n\u001b[0;32m    694\u001b[0m     dtypes \u001b[38;5;241m=\u001b[39m [\n\u001b[1;32m--> 695\u001b[0m         \u001b[43mconvert_dtypes\u001b[49m\u001b[43m(\u001b[49m\n\u001b[0;32m    696\u001b[0m \u001b[43m            \u001b[49m\u001b[43mb\u001b[49m\u001b[38;5;241;43m.\u001b[39;49m\u001b[43mvalues\u001b[49m\u001b[43m,\u001b[49m\n\u001b[0;32m    697\u001b[0m \u001b[43m            \u001b[49m\u001b[43mconvert_string\u001b[49m\u001b[43m,\u001b[49m\n\u001b[0;32m    698\u001b[0m \u001b[43m            \u001b[49m\u001b[43mconvert_integer\u001b[49m\u001b[43m,\u001b[49m\n\u001b[0;32m    699\u001b[0m \u001b[43m            \u001b[49m\u001b[43mconvert_boolean\u001b[49m\u001b[43m,\u001b[49m\n\u001b[0;32m    700\u001b[0m \u001b[43m            \u001b[49m\u001b[43mconvert_floating\u001b[49m\u001b[43m,\u001b[49m\n\u001b[0;32m    701\u001b[0m \u001b[43m            \u001b[49m\u001b[43minfer_objects\u001b[49m\u001b[43m,\u001b[49m\n\u001b[0;32m    702\u001b[0m \u001b[43m            \u001b[49m\u001b[43mdtype_backend\u001b[49m\u001b[43m,\u001b[49m\n\u001b[0;32m    703\u001b[0m \u001b[43m        \u001b[49m\u001b[43m)\u001b[49m\n\u001b[0;32m    704\u001b[0m         \u001b[38;5;28;01mfor\u001b[39;00m b \u001b[38;5;129;01min\u001b[39;00m sub_blks\n\u001b[0;32m    705\u001b[0m     ]\n\u001b[0;32m    706\u001b[0m     \u001b[38;5;28;01mif\u001b[39;00m \u001b[38;5;28mall\u001b[39m(dtype \u001b[38;5;241m==\u001b[39m \u001b[38;5;28mself\u001b[39m\u001b[38;5;241m.\u001b[39mdtype \u001b[38;5;28;01mfor\u001b[39;00m dtype \u001b[38;5;129;01min\u001b[39;00m dtypes):\n\u001b[0;32m    707\u001b[0m         \u001b[38;5;66;03m# Avoid block splitting if no dtype changes\u001b[39;00m\n\u001b[0;32m    708\u001b[0m         rbs\u001b[38;5;241m.\u001b[39mappend(blk\u001b[38;5;241m.\u001b[39mcopy(deep\u001b[38;5;241m=\u001b[39mcopy))\n",
      "File \u001b[1;32m~\\AppData\\Local\\Programs\\Python\\Python313\\Lib\\site-packages\\pandas\\core\\dtypes\\cast.py:1144\u001b[0m, in \u001b[0;36mconvert_dtypes\u001b[1;34m(input_array, convert_string, convert_integer, convert_boolean, convert_floating, infer_objects, dtype_backend)\u001b[0m\n\u001b[0;32m   1142\u001b[0m     pa_type \u001b[38;5;241m=\u001b[39m pa\u001b[38;5;241m.\u001b[39mnull()\n\u001b[0;32m   1143\u001b[0m \u001b[38;5;28;01melse\u001b[39;00m:\n\u001b[1;32m-> 1144\u001b[0m     pa_type \u001b[38;5;241m=\u001b[39m \u001b[43mto_pyarrow_type\u001b[49m\u001b[43m(\u001b[49m\u001b[43mbase_dtype\u001b[49m\u001b[43m)\u001b[49m\n\u001b[0;32m   1145\u001b[0m \u001b[38;5;28;01mif\u001b[39;00m pa_type \u001b[38;5;129;01mis\u001b[39;00m \u001b[38;5;129;01mnot\u001b[39;00m \u001b[38;5;28;01mNone\u001b[39;00m:\n\u001b[0;32m   1146\u001b[0m     inferred_dtype \u001b[38;5;241m=\u001b[39m ArrowDtype(pa_type)\n",
      "File \u001b[1;32m~\\AppData\\Local\\Programs\\Python\\Python313\\Lib\\site-packages\\pandas\\core\\arrays\\arrow\\array.py:221\u001b[0m, in \u001b[0;36mto_pyarrow_type\u001b[1;34m(dtype)\u001b[0m\n\u001b[0;32m    215\u001b[0m \u001b[38;5;28;01mdef\u001b[39;00m\u001b[38;5;250m \u001b[39m\u001b[38;5;21mto_pyarrow_type\u001b[39m(\n\u001b[0;32m    216\u001b[0m     dtype: ArrowDtype \u001b[38;5;241m|\u001b[39m pa\u001b[38;5;241m.\u001b[39mDataType \u001b[38;5;241m|\u001b[39m Dtype \u001b[38;5;241m|\u001b[39m \u001b[38;5;28;01mNone\u001b[39;00m,\n\u001b[0;32m    217\u001b[0m ) \u001b[38;5;241m-\u001b[39m\u001b[38;5;241m>\u001b[39m pa\u001b[38;5;241m.\u001b[39mDataType \u001b[38;5;241m|\u001b[39m \u001b[38;5;28;01mNone\u001b[39;00m:\n\u001b[0;32m    218\u001b[0m \u001b[38;5;250m    \u001b[39m\u001b[38;5;124;03m\"\"\"\u001b[39;00m\n\u001b[0;32m    219\u001b[0m \u001b[38;5;124;03m    Convert dtype to a pyarrow type instance.\u001b[39;00m\n\u001b[0;32m    220\u001b[0m \u001b[38;5;124;03m    \"\"\"\u001b[39;00m\n\u001b[1;32m--> 221\u001b[0m     \u001b[38;5;28;01mif\u001b[39;00m \u001b[38;5;28misinstance\u001b[39m(dtype, \u001b[43mArrowDtype\u001b[49m):\n\u001b[0;32m    222\u001b[0m         \u001b[38;5;28;01mreturn\u001b[39;00m dtype\u001b[38;5;241m.\u001b[39mpyarrow_dtype\n\u001b[0;32m    223\u001b[0m     \u001b[38;5;28;01melif\u001b[39;00m \u001b[38;5;28misinstance\u001b[39m(dtype, pa\u001b[38;5;241m.\u001b[39mDataType):\n",
      "\u001b[1;31mNameError\u001b[0m: name 'ArrowDtype' is not defined"
     ]
    }
   ],
   "source": [
    "map_uid_df = map_uid_df.convert_dtypes(dtype_backend='pyarrow')"
   ]
  }
 ],
 "metadata": {
  "kernelspec": {
   "display_name": "Python 3 (ipykernel)",
   "language": "python",
   "name": "python3"
  },
  "language_info": {
   "codemirror_mode": {
    "name": "ipython",
    "version": 3
   },
   "file_extension": ".py",
   "mimetype": "text/x-python",
   "name": "python",
   "nbconvert_exporter": "python",
   "pygments_lexer": "ipython3",
   "version": "3.13.0"
  }
 },
 "nbformat": 4,
 "nbformat_minor": 5
}
